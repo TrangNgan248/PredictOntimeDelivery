{
 "cells": [
  {
   "cell_type": "markdown",
   "metadata": {},
   "source": [
    "# 1. Import thu vien"
   ]
  },
  {
   "cell_type": "code",
   "execution_count": null,
   "metadata": {},
   "outputs": [],
   "source": [
    "%pip install imblearn\n",
    "%pip install -r requirements.txt"
   ]
  },
  {
   "cell_type": "code",
   "execution_count": 17,
   "metadata": {},
   "outputs": [],
   "source": [
    "# Thu vien binh thuong\n",
    "import numpy as np\n",
    "import pandas as pd\n",
    "import matplotlib.pyplot as plt\n",
    "import seaborn as sns\n",
    "import pickle\n",
    "\n",
    "#Bagging ensemble  --> lay trung binh\n",
    "from sklearn.ensemble import BaggingClassifier\n",
    "from sklearn.ensemble import RandomForestClassifier\n",
    "\n",
    "#Boosting ensemble --> ket hop nhieu weak model\n",
    "from sklearn.ensemble import AdaBoostClassifier\n",
    "from sklearn.ensemble import GradientBoostingClassifier\n",
    "from xgboost import XGBClassifier\n",
    "from lightgbm import LGBMClassifier\n",
    "\n",
    "#Phuc vu cross validation\n",
    "from sklearn.model_selection import StratifiedKFold, KFold\n",
    "from sklearn.model_selection import cross_val_score\n",
    "\n",
    "#Phuc vu scale data\n",
    "from sklearn.pipeline import Pipeline\n",
    "from sklearn.preprocessing import StandardScaler\n",
    "\n",
    "#Danh gia mo hinh\n",
    "from sklearn.metrics import classification_report\n",
    "from sklearn.metrics import balanced_accuracy_score\n",
    "from sklearn.metrics import roc_auc_score\n",
    "\n",
    "#Phuc vu tinh chinh sieu tham so\n",
    "from sklearn.model_selection import GridSearchCV\n",
    "\n",
    "from imblearn.over_sampling import SMOTE, ADASYN, RandomOverSampler"
   ]
  },
  {
   "cell_type": "markdown",
   "metadata": {},
   "source": [
    "# 2. Bien, Sieu tham so"
   ]
  },
  {
   "cell_type": "code",
   "execution_count": 18,
   "metadata": {},
   "outputs": [
    {
     "name": "stdout",
     "output_type": "stream",
     "text": [
      "(57863, 11) (57863,) (19288, 11) (19288,) (19288, 11) (19288,)\n"
     ]
    }
   ],
   "source": [
    "def loadfile(filename):\n",
    "    with open(f'{filename}.pickle', 'rb') as fp:\n",
    "        data = pickle.load(fp)\n",
    "    return data\n",
    "\n",
    "X_train, X_test, X_val = loadfile('X_train'), loadfile('X_test'), loadfile('X_val')\n",
    "y_train, y_test, y_val = loadfile('y_train'), loadfile('y_test'), loadfile('y_val')\n",
    "\n",
    "print(X_train.shape, y_train.shape, X_test.shape, y_test.shape, X_val.shape, y_val.shape)"
   ]
  },
  {
   "cell_type": "code",
   "execution_count": 19,
   "metadata": {},
   "outputs": [],
   "source": [
    "num_folds = 10 #so fold trong K fold\n",
    "seed = 36 #random number\n",
    "scoring = 'f1_weighted'"
   ]
  },
  {
   "cell_type": "markdown",
   "metadata": {},
   "source": [
    "# 3. Danh gia du lieu"
   ]
  },
  {
   "cell_type": "markdown",
   "metadata": {},
   "source": [
    "## 3.1. Danh gia so luong mau tung class"
   ]
  },
  {
   "cell_type": "code",
   "execution_count": 10,
   "metadata": {},
   "outputs": [
    {
     "name": "stdout",
     "output_type": "stream",
     "text": [
      "Train: class 0 = 4715, class 1 = 53148\n",
      "Val: class 0 = 1600, class 1 = 17688\n",
      "Test: class 0 = 1510, class 1 = 17778\n"
     ]
    }
   ],
   "source": [
    "print(f'Train: class 0 = {sum(y_train == 0)}, class 1 = {sum(y_train == 1)}')\n",
    "print(f'Val: class 0 = {sum(y_val == 0)}, class 1 = {sum(y_val == 1)}')\n",
    "print(f'Test: class 0 = {sum(y_test == 0)}, class 1 = {sum(y_test == 1)}')"
   ]
  },
  {
   "cell_type": "code",
   "execution_count": 11,
   "metadata": {},
   "outputs": [
    {
     "data": {
      "image/png": "[encoded data removed]",
      "text/plain": [
       "<Figure size 640x480 with 1 Axes>"
      ]
     },
     "metadata": {},
     "output_type": "display_data"
    }
   ],
   "source": [
    "#Visualize\n",
    "\n",
    "X = ['train', 'val', 'test']\n",
    "zero = [4715, 1600, 1510]\n",
    "one = [53148, 17688, 17778]\n",
    "\n",
    "X_axis = np.arange(len(X))\n",
    "\n",
    "plt.bar(X_axis - 0.2, zero, 0.4, label = 'Class 0')\n",
    "plt.bar(X_axis + 0.2, one, 0.4, label = 'Class 1')\n",
    "\n",
    "for i in range(len(X)):\n",
    "  plt.text(i - 0.2, zero[i] + 10, zero[i], ha = 'center')\n",
    "for i in range(len(X)):\n",
    "  plt.text(i + 0.2, one[i] + 10, one[i], ha = 'center')\n",
    "plt.xticks(X_axis, X)\n",
    "plt.ylabel(\"Number of Samples\")\n",
    "plt.legend()\n",
    "plt.show()"
   ]
  },
  {
   "cell_type": "markdown",
   "metadata": {},
   "source": [
    "## 3.2. Danh gia phan phoi tung feature"
   ]
  },
  {
   "cell_type": "code",
   "execution_count": null,
   "metadata": {},
   "outputs": [],
   "source": [
    "sns.displot(data=pd.DataFrame({\"data\": X_train.ravel(),\n",
    "                               \"column\": np.repeat(np.arange(X_train.shape[0]), X_train.shape[1])}),\n",
    "            x=\"data\", col=\"column\", kde=True, color='blueviolet', height=3)\n",
    "plt.show()"
   ]
  },
  {
   "cell_type": "markdown",
   "metadata": {},
   "source": [
    "# 4. Danh gia chung tung model ensemble"
   ]
  },
  {
   "cell_type": "markdown",
   "metadata": {},
   "source": [
    "## 4.1. Chua scale data"
   ]
  },
  {
   "cell_type": "code",
   "execution_count": 23,
   "metadata": {},
   "outputs": [],
   "source": [
    "#not scale\n",
    "\n",
    "models = []\n",
    "models.append(('BC', BaggingClassifier()))\n",
    "models.append(('RFC', RandomForestClassifier()))\n",
    "models.append(('ADA', AdaBoostClassifier()))\n",
    "models.append(('GBC', GradientBoostingClassifier()))\n",
    "models.append(('XGB', XGBClassifier()))\n",
    "models.append(('LGBM', LGBMClassifier()))"
   ]
  },
  {
   "cell_type": "code",
   "execution_count": 24,
   "metadata": {},
   "outputs": [
    {
     "name": "stdout",
     "output_type": "stream",
     "text": [
      "BC: 0.903063 (0.003129)\n",
      "RFC: 0.905554 (0.003322)\n"
     ]
    },
    {
     "name": "stderr",
     "output_type": "stream",
     "text": [
      "/Users/TrangNgan/HUST/DATN/OntimePrediction/retrain_env/lib/python3.12/site-packages/sklearn/ensemble/_weight_boosting.py:519: FutureWarning: The SAMME.R algorithm (the default) is deprecated and will be removed in 1.6. Use the SAMME algorithm to circumvent this warning.\n",
      "  warnings.warn(\n",
      "/Users/TrangNgan/HUST/DATN/OntimePrediction/retrain_env/lib/python3.12/site-packages/sklearn/ensemble/_weight_boosting.py:519: FutureWarning: The SAMME.R algorithm (the default) is deprecated and will be removed in 1.6. Use the SAMME algorithm to circumvent this warning.\n",
      "  warnings.warn(\n",
      "/Users/TrangNgan/HUST/DATN/OntimePrediction/retrain_env/lib/python3.12/site-packages/sklearn/ensemble/_weight_boosting.py:519: FutureWarning: The SAMME.R algorithm (the default) is deprecated and will be removed in 1.6. Use the SAMME algorithm to circumvent this warning.\n",
      "  warnings.warn(\n",
      "/Users/TrangNgan/HUST/DATN/OntimePrediction/retrain_env/lib/python3.12/site-packages/sklearn/ensemble/_weight_boosting.py:519: FutureWarning: The SAMME.R algorithm (the default) is deprecated and will be removed in 1.6. Use the SAMME algorithm to circumvent this warning.\n",
      "  warnings.warn(\n",
      "/Users/TrangNgan/HUST/DATN/OntimePrediction/retrain_env/lib/python3.12/site-packages/sklearn/ensemble/_weight_boosting.py:519: FutureWarning: The SAMME.R algorithm (the default) is deprecated and will be removed in 1.6. Use the SAMME algorithm to circumvent this warning.\n",
      "  warnings.warn(\n",
      "/Users/TrangNgan/HUST/DATN/OntimePrediction/retrain_env/lib/python3.12/site-packages/sklearn/ensemble/_weight_boosting.py:519: FutureWarning: The SAMME.R algorithm (the default) is deprecated and will be removed in 1.6. Use the SAMME algorithm to circumvent this warning.\n",
      "  warnings.warn(\n",
      "/Users/TrangNgan/HUST/DATN/OntimePrediction/retrain_env/lib/python3.12/site-packages/sklearn/ensemble/_weight_boosting.py:519: FutureWarning: The SAMME.R algorithm (the default) is deprecated and will be removed in 1.6. Use the SAMME algorithm to circumvent this warning.\n",
      "  warnings.warn(\n",
      "/Users/TrangNgan/HUST/DATN/OntimePrediction/retrain_env/lib/python3.12/site-packages/sklearn/ensemble/_weight_boosting.py:519: FutureWarning: The SAMME.R algorithm (the default) is deprecated and will be removed in 1.6. Use the SAMME algorithm to circumvent this warning.\n",
      "  warnings.warn(\n",
      "/Users/TrangNgan/HUST/DATN/OntimePrediction/retrain_env/lib/python3.12/site-packages/sklearn/ensemble/_weight_boosting.py:519: FutureWarning: The SAMME.R algorithm (the default) is deprecated and will be removed in 1.6. Use the SAMME algorithm to circumvent this warning.\n",
      "  warnings.warn(\n",
      "/Users/TrangNgan/HUST/DATN/OntimePrediction/retrain_env/lib/python3.12/site-packages/sklearn/ensemble/_weight_boosting.py:519: FutureWarning: The SAMME.R algorithm (the default) is deprecated and will be removed in 1.6. Use the SAMME algorithm to circumvent this warning.\n",
      "  warnings.warn(\n"
     ]
    },
    {
     "name": "stdout",
     "output_type": "stream",
     "text": [
      "ADA: 0.901693 (0.002788)\n",
      "GBC: 0.902180 (0.002898)\n",
      "XGB: 0.907801 (0.003299)\n",
      "[LightGBM] [Info] Number of positive: 47833, number of negative: 4243\n",
      "[LightGBM] [Info] Auto-choosing row-wise multi-threading, the overhead of testing was 0.001045 seconds.\n",
      "You can set `force_row_wise=true` to remove the overhead.\n",
      "And if memory is not enough, you can set `force_col_wise=true`.\n",
      "[LightGBM] [Info] Total Bins 1806\n",
      "[LightGBM] [Info] Number of data points in the train set: 52076, number of used features: 11\n",
      "[LightGBM] [Info] [binary:BoostFromScore]: pavg=0.918523 -> initscore=2.422445\n",
      "[LightGBM] [Info] Start training from score 2.422445\n",
      "[LightGBM] [Info] Number of positive: 47833, number of negative: 4243\n",
      "[LightGBM] [Info] Auto-choosing row-wise multi-threading, the overhead of testing was 0.000404 seconds.\n",
      "You can set `force_row_wise=true` to remove the overhead.\n",
      "And if memory is not enough, you can set `force_col_wise=true`.\n",
      "[LightGBM] [Info] Total Bins 1803\n",
      "[LightGBM] [Info] Number of data points in the train set: 52076, number of used features: 11\n",
      "[LightGBM] [Info] [binary:BoostFromScore]: pavg=0.918523 -> initscore=2.422445\n",
      "[LightGBM] [Info] Start training from score 2.422445\n",
      "[LightGBM] [Info] Number of positive: 47833, number of negative: 4243\n",
      "[LightGBM] [Info] Auto-choosing row-wise multi-threading, the overhead of testing was 0.000578 seconds.\n",
      "You can set `force_row_wise=true` to remove the overhead.\n",
      "And if memory is not enough, you can set `force_col_wise=true`.\n",
      "[LightGBM] [Info] Total Bins 1802\n",
      "[LightGBM] [Info] Number of data points in the train set: 52076, number of used features: 11\n",
      "[LightGBM] [Info] [binary:BoostFromScore]: pavg=0.918523 -> initscore=2.422445\n",
      "[LightGBM] [Info] Start training from score 2.422445\n",
      "[LightGBM] [Info] Number of positive: 47833, number of negative: 4244\n",
      "[LightGBM] [Info] Auto-choosing row-wise multi-threading, the overhead of testing was 0.000436 seconds.\n",
      "You can set `force_row_wise=true` to remove the overhead.\n",
      "And if memory is not enough, you can set `force_col_wise=true`.\n",
      "[LightGBM] [Info] Total Bins 1806\n",
      "[LightGBM] [Info] Number of data points in the train set: 52077, number of used features: 11\n",
      "[LightGBM] [Info] [binary:BoostFromScore]: pavg=0.918505 -> initscore=2.422210\n",
      "[LightGBM] [Info] Start training from score 2.422210\n",
      "[LightGBM] [Info] Number of positive: 47833, number of negative: 4244\n",
      "[LightGBM] [Info] Auto-choosing row-wise multi-threading, the overhead of testing was 0.000425 seconds.\n",
      "You can set `force_row_wise=true` to remove the overhead.\n",
      "And if memory is not enough, you can set `force_col_wise=true`.\n",
      "[LightGBM] [Info] Total Bins 1805\n",
      "[LightGBM] [Info] Number of data points in the train set: 52077, number of used features: 11\n",
      "[LightGBM] [Info] [binary:BoostFromScore]: pavg=0.918505 -> initscore=2.422210\n",
      "[LightGBM] [Info] Start training from score 2.422210\n",
      "[LightGBM] [Info] Number of positive: 47833, number of negative: 4244\n",
      "[LightGBM] [Info] Auto-choosing row-wise multi-threading, the overhead of testing was 0.000369 seconds.\n",
      "You can set `force_row_wise=true` to remove the overhead.\n",
      "And if memory is not enough, you can set `force_col_wise=true`.\n",
      "[LightGBM] [Info] Total Bins 1804\n",
      "[LightGBM] [Info] Number of data points in the train set: 52077, number of used features: 11\n",
      "[LightGBM] [Info] [binary:BoostFromScore]: pavg=0.918505 -> initscore=2.422210\n",
      "[LightGBM] [Info] Start training from score 2.422210\n",
      "[LightGBM] [Info] Number of positive: 47833, number of negative: 4244\n",
      "[LightGBM] [Info] Auto-choosing row-wise multi-threading, the overhead of testing was 0.000400 seconds.\n",
      "You can set `force_row_wise=true` to remove the overhead.\n",
      "And if memory is not enough, you can set `force_col_wise=true`.\n",
      "[LightGBM] [Info] Total Bins 1802\n",
      "[LightGBM] [Info] Number of data points in the train set: 52077, number of used features: 11\n",
      "[LightGBM] [Info] [binary:BoostFromScore]: pavg=0.918505 -> initscore=2.422210\n",
      "[LightGBM] [Info] Start training from score 2.422210\n",
      "[LightGBM] [Info] Number of positive: 47833, number of negative: 4244\n",
      "[LightGBM] [Info] Auto-choosing row-wise multi-threading, the overhead of testing was 0.000413 seconds.\n",
      "You can set `force_row_wise=true` to remove the overhead.\n",
      "And if memory is not enough, you can set `force_col_wise=true`.\n",
      "[LightGBM] [Info] Total Bins 1799\n",
      "[LightGBM] [Info] Number of data points in the train set: 52077, number of used features: 11\n",
      "[LightGBM] [Info] [binary:BoostFromScore]: pavg=0.918505 -> initscore=2.422210\n",
      "[LightGBM] [Info] Start training from score 2.422210\n",
      "[LightGBM] [Info] Number of positive: 47834, number of negative: 4243\n",
      "[LightGBM] [Info] Auto-choosing row-wise multi-threading, the overhead of testing was 0.000532 seconds.\n",
      "You can set `force_row_wise=true` to remove the overhead.\n",
      "And if memory is not enough, you can set `force_col_wise=true`.\n",
      "[LightGBM] [Info] Total Bins 1808\n",
      "[LightGBM] [Info] Number of data points in the train set: 52077, number of used features: 11\n",
      "[LightGBM] [Info] [binary:BoostFromScore]: pavg=0.918524 -> initscore=2.422466\n",
      "[LightGBM] [Info] Start training from score 2.422466\n",
      "[LightGBM] [Info] Number of positive: 47834, number of negative: 4243\n",
      "[LightGBM] [Info] Auto-choosing row-wise multi-threading, the overhead of testing was 0.000510 seconds.\n",
      "You can set `force_row_wise=true` to remove the overhead.\n",
      "And if memory is not enough, you can set `force_col_wise=true`.\n",
      "[LightGBM] [Info] Total Bins 1805\n",
      "[LightGBM] [Info] Number of data points in the train set: 52077, number of used features: 11\n",
      "[LightGBM] [Info] [binary:BoostFromScore]: pavg=0.918524 -> initscore=2.422466\n",
      "[LightGBM] [Info] Start training from score 2.422466\n",
      "LGBM: 0.905296 (0.003160)\n"
     ]
    }
   ],
   "source": [
    "# evaluate each model in turn\n",
    "results = []\n",
    "names = []\n",
    "for name, model in models:\n",
    "  skf = StratifiedKFold(n_splits=num_folds, random_state=seed, shuffle=True)\n",
    "  cv_results = cross_val_score(model, X_train, y_train, cv=skf, scoring=scoring)\n",
    "  results.append(cv_results)\n",
    "  names.append(name)\n",
    "  msg = \"%s: %f (%f)\" % (name, cv_results.mean(), cv_results.std())\n",
    "  print(msg)"
   ]
  },
  {
   "cell_type": "code",
   "execution_count": 14,
   "metadata": {},
   "outputs": [
    {
     "name": "stdout",
     "output_type": "stream",
     "text": [
      "[array([0.9075436 , 0.90726735, 0.90734317, 0.90487575, 0.90672876,\n",
      "       0.90193686, 0.90642749, 0.90193686, 0.91158913, 0.90321498]), array([0.90751698, 0.90529982, 0.90567474, 0.90275322, 0.90921721,\n",
      "       0.90247847, 0.90187199, 0.90155962, 0.91116857, 0.90526153]), array([0.90491689, 0.90053886, 0.90167805, 0.89795292, 0.90112694,\n",
      "       0.90090304, 0.89736586, 0.90239103, 0.90722326, 0.90282995]), array([0.90436102, 0.90157541, 0.9012438 , 0.89972627, 0.90183429,\n",
      "       0.9017143 , 0.89855429, 0.89994882, 0.90942509, 0.90329377]), array([0.90987116, 0.9088368 , 0.90704688, 0.90337477, 0.91049447,\n",
      "       0.9060924 , 0.90484153, 0.9037817 , 0.91463132, 0.90904281])]\n"
     ]
    }
   ],
   "source": [
    "print(results)"
   ]
  },
  {
   "cell_type": "code",
   "execution_count": 15,
   "metadata": {},
   "outputs": [
    {
     "data": {
      "image/png": "[encoded data removed]",
      "text/plain": [
       "<Figure size 1000x1000 with 1 Axes>"
      ]
     },
     "metadata": {},
     "output_type": "display_data"
    }
   ],
   "source": [
    "fig = plt.figure(figsize=(10, 10))\n",
    "fig.suptitle('Algorithm Comparison')\n",
    "ax = fig.add_subplot(111)\n",
    "plt.boxplot(results)\n",
    "ax.set_xticklabels(names)\n",
    "plt.show()"
   ]
  },
  {
   "cell_type": "markdown",
   "metadata": {},
   "source": [
    "## 4.2. Sau khi scale (standard) data"
   ]
  },
  {
   "cell_type": "code",
   "execution_count": 15,
   "metadata": {},
   "outputs": [
    {
     "name": "stdout",
     "output_type": "stream",
     "text": [
      "ScaledBC: 0.904721 (0.002987)\n",
      "ScaledRFC: 0.905061 (0.003139)\n"
     ]
    },
    {
     "name": "stderr",
     "output_type": "stream",
     "text": [
      "/Users/TrangNgan/HUST/DATN/OntimePrediction/retrain_env/lib/python3.12/site-packages/sklearn/ensemble/_weight_boosting.py:519: FutureWarning: The SAMME.R algorithm (the default) is deprecated and will be removed in 1.6. Use the SAMME algorithm to circumvent this warning.\n",
      "  warnings.warn(\n",
      "/Users/TrangNgan/HUST/DATN/OntimePrediction/retrain_env/lib/python3.12/site-packages/sklearn/ensemble/_weight_boosting.py:519: FutureWarning: The SAMME.R algorithm (the default) is deprecated and will be removed in 1.6. Use the SAMME algorithm to circumvent this warning.\n",
      "  warnings.warn(\n",
      "/Users/TrangNgan/HUST/DATN/OntimePrediction/retrain_env/lib/python3.12/site-packages/sklearn/ensemble/_weight_boosting.py:519: FutureWarning: The SAMME.R algorithm (the default) is deprecated and will be removed in 1.6. Use the SAMME algorithm to circumvent this warning.\n",
      "  warnings.warn(\n",
      "/Users/TrangNgan/HUST/DATN/OntimePrediction/retrain_env/lib/python3.12/site-packages/sklearn/ensemble/_weight_boosting.py:519: FutureWarning: The SAMME.R algorithm (the default) is deprecated and will be removed in 1.6. Use the SAMME algorithm to circumvent this warning.\n",
      "  warnings.warn(\n",
      "/Users/TrangNgan/HUST/DATN/OntimePrediction/retrain_env/lib/python3.12/site-packages/sklearn/ensemble/_weight_boosting.py:519: FutureWarning: The SAMME.R algorithm (the default) is deprecated and will be removed in 1.6. Use the SAMME algorithm to circumvent this warning.\n",
      "  warnings.warn(\n",
      "/Users/TrangNgan/HUST/DATN/OntimePrediction/retrain_env/lib/python3.12/site-packages/sklearn/ensemble/_weight_boosting.py:519: FutureWarning: The SAMME.R algorithm (the default) is deprecated and will be removed in 1.6. Use the SAMME algorithm to circumvent this warning.\n",
      "  warnings.warn(\n",
      "/Users/TrangNgan/HUST/DATN/OntimePrediction/retrain_env/lib/python3.12/site-packages/sklearn/ensemble/_weight_boosting.py:519: FutureWarning: The SAMME.R algorithm (the default) is deprecated and will be removed in 1.6. Use the SAMME algorithm to circumvent this warning.\n",
      "  warnings.warn(\n",
      "/Users/TrangNgan/HUST/DATN/OntimePrediction/retrain_env/lib/python3.12/site-packages/sklearn/ensemble/_weight_boosting.py:519: FutureWarning: The SAMME.R algorithm (the default) is deprecated and will be removed in 1.6. Use the SAMME algorithm to circumvent this warning.\n",
      "  warnings.warn(\n",
      "/Users/TrangNgan/HUST/DATN/OntimePrediction/retrain_env/lib/python3.12/site-packages/sklearn/ensemble/_weight_boosting.py:519: FutureWarning: The SAMME.R algorithm (the default) is deprecated and will be removed in 1.6. Use the SAMME algorithm to circumvent this warning.\n",
      "  warnings.warn(\n",
      "/Users/TrangNgan/HUST/DATN/OntimePrediction/retrain_env/lib/python3.12/site-packages/sklearn/ensemble/_weight_boosting.py:519: FutureWarning: The SAMME.R algorithm (the default) is deprecated and will be removed in 1.6. Use the SAMME algorithm to circumvent this warning.\n",
      "  warnings.warn(\n"
     ]
    },
    {
     "name": "stdout",
     "output_type": "stream",
     "text": [
      "ScaledADA: 0.901693 (0.002788)\n",
      "ScaledGBC: 0.902180 (0.002898)\n",
      "ScaledXGB: 0.907721 (0.003413)\n"
     ]
    }
   ],
   "source": [
    "# Standardize the dataset\n",
    "scaled_models = []\n",
    "\n",
    "\n",
    "scaled_models.append(('ScaledBC', Pipeline([('Scaler', StandardScaler()),('BC',BaggingClassifier())])))\n",
    "scaled_models.append(('ScaledRFC', Pipeline([('Scaler', StandardScaler()),('RFC',RandomForestClassifier())])))\n",
    "scaled_models.append(('ScaledADA', Pipeline([('Scaler', StandardScaler()),('ADA',AdaBoostClassifier())])))\n",
    "scaled_models.append(('ScaledGBC', Pipeline([('Scaler', StandardScaler()),('GBC',GradientBoostingClassifier())])))\n",
    "scaled_models.append(('ScaledXGB', Pipeline([('Scaler', StandardScaler()),('XGB',XGBClassifier())])))\n",
    "\n",
    "scaled_results = []\n",
    "scaled_names = []\n",
    "for name, model in scaled_models:\n",
    "  skf = StratifiedKFold(n_splits=num_folds, random_state=seed, shuffle=True)\n",
    "  cv_results = cross_val_score(model, X_train, y_train, cv=skf, scoring=scoring)\n",
    "  scaled_results.append(cv_results)\n",
    "  scaled_names.append(name)\n",
    "  msg = \"%s: %f (%f)\" % (name, cv_results.mean(), cv_results.std())\n",
    "  print(msg)"
   ]
  },
  {
   "cell_type": "code",
   "execution_count": 17,
   "metadata": {},
   "outputs": [
    {
     "name": "stdout",
     "output_type": "stream",
     "text": [
      "[array([0.90692105, 0.90330081, 0.90589391, 0.89959191, 0.90418392,\n",
      "       0.90072304, 0.90462432, 0.89653935, 0.90819321, 0.90379613]), array([0.90738976, 0.90590384, 0.90750866, 0.90138355, 0.90819271,\n",
      "       0.90147844, 0.903758  , 0.90093943, 0.9108154 , 0.90508378]), array([0.90491689, 0.90053886, 0.90167805, 0.89795292, 0.90112694,\n",
      "       0.90090304, 0.89736586, 0.90239103, 0.90722326, 0.90282995]), array([0.90436102, 0.90157541, 0.9012438 , 0.89972627, 0.90183429,\n",
      "       0.9017143 , 0.89855429, 0.89994882, 0.90942509, 0.90329377])]\n"
     ]
    }
   ],
   "source": [
    "print(scaled_results)"
   ]
  },
  {
   "cell_type": "code",
   "execution_count": 18,
   "metadata": {},
   "outputs": [
    {
     "data": {
      "image/png": "[encoded data removed]",
      "text/plain": [
       "<Figure size 1000x1000 with 1 Axes>"
      ]
     },
     "metadata": {},
     "output_type": "display_data"
    }
   ],
   "source": [
    "# Compare Algorithms\n",
    "fig = plt.figure(figsize=(10, 10))\n",
    "fig.suptitle('Scaled Algorithm Comparison')\n",
    "ax = fig.add_subplot(111)\n",
    "plt.boxplot(scaled_results)\n",
    "ax.set_xticklabels(scaled_names)\n",
    "plt.show()"
   ]
  },
  {
   "cell_type": "markdown",
   "metadata": {},
   "source": [
    "# Baseline model"
   ]
  },
  {
   "cell_type": "code",
   "execution_count": 19,
   "metadata": {},
   "outputs": [
    {
     "name": "stdout",
     "output_type": "stream",
     "text": [
      "              precision    recall  f1-score   support\n",
      "\n",
      "           0       0.74      0.18      0.29      1600\n",
      "           1       0.93      0.99      0.96     17688\n",
      "\n",
      "    accuracy                           0.93     19288\n",
      "   macro avg       0.84      0.59      0.62     19288\n",
      "weighted avg       0.91      0.93      0.91     19288\n",
      "\n",
      "ROC: 0.5862357247851651\n"
     ]
    }
   ],
   "source": [
    "#Baseline model: RDF\n",
    "\n",
    "model = RandomForestClassifier()\n",
    "model.fit(X_train, y_train)\n",
    "predict = model.predict(X_val)\n",
    "\n",
    "print(classification_report(y_val, predict))\n",
    "print(f'ROC: {roc_auc_score(y_val, predict)}')"
   ]
  },
  {
   "cell_type": "code",
   "execution_count": 20,
   "metadata": {},
   "outputs": [
    {
     "name": "stdout",
     "output_type": "stream",
     "text": [
      "              precision    recall  f1-score   support\n",
      "\n",
      "           0       0.69      0.20      0.31      1600\n",
      "           1       0.93      0.99      0.96     17688\n",
      "\n",
      "    accuracy                           0.93     19288\n",
      "   macro avg       0.81      0.60      0.63     19288\n",
      "weighted avg       0.91      0.93      0.91     19288\n",
      "\n",
      "ROC: 0.595560408186341\n"
     ]
    }
   ],
   "source": [
    "#Baseline model: XGB\n",
    "\n",
    "model = XGBClassifier()\n",
    "model.fit(X_train, y_train)\n",
    "predict = model.predict(X_val)\n",
    "\n",
    "print(classification_report(y_val, predict))\n",
    "print(f'ROC: {roc_auc_score(y_val, predict)}')"
   ]
  },
  {
   "cell_type": "markdown",
   "metadata": {},
   "source": [
    "# 5. Tinh chinh sieu tham so"
   ]
  },
  {
   "cell_type": "code",
   "execution_count": 22,
   "metadata": {},
   "outputs": [
    {
     "name": "stdout",
     "output_type": "stream",
     "text": [
      "Best: 0.961853 using {'n_estimators': 400}\n",
      "0.961142 (0.001254) with: {'n_estimators': 50}\n",
      "0.961584 (0.001098) with: {'n_estimators': 100}\n",
      "0.961684 (0.000959) with: {'n_estimators': 150}\n",
      "0.961687 (0.000919) with: {'n_estimators': 200}\n",
      "0.961761 (0.000999) with: {'n_estimators': 250}\n",
      "0.961762 (0.000994) with: {'n_estimators': 300}\n",
      "0.961781 (0.001045) with: {'n_estimators': 350}\n",
      "0.961853 (0.000995) with: {'n_estimators': 400}\n"
     ]
    }
   ],
   "source": [
    "#Baseline model: RDF\n",
    "scaler = StandardScaler().fit(X_train)\n",
    "rescaledX = scaler.transform(X_train)\n",
    "param_grid = dict(n_estimators=np.array([50,100,150,200,250,300,350,400]))\n",
    "model = RandomForestClassifier(random_state=seed)\n",
    "skf = StratifiedKFold(n_splits=num_folds, random_state=seed, shuffle=True)\n",
    "grid = GridSearchCV(estimator=model, param_grid=param_grid, scoring='f1', cv=skf)\n",
    "grid_result = grid.fit(rescaledX, y_train)\n",
    "\n",
    "print(\"Best: %f using %s\" % (grid_result.best_score_, grid_result.best_params_))\n",
    "means = grid_result.cv_results_['mean_test_score']\n",
    "stds = grid_result.cv_results_['std_test_score']\n",
    "params = grid_result.cv_results_['params']\n",
    "for mean, stdev, param in zip(means, stds, params):\n",
    "  print(\"%f (%f) with: %r\" % (mean, stdev, param))"
   ]
  },
  {
   "cell_type": "code",
   "execution_count": 23,
   "metadata": {},
   "outputs": [
    {
     "name": "stdout",
     "output_type": "stream",
     "text": [
      "              precision    recall  f1-score   support\n",
      "\n",
      "           0       0.77      0.17      0.28      1600\n",
      "           1       0.93      1.00      0.96     17688\n",
      "\n",
      "    accuracy                           0.93     19288\n",
      "   macro avg       0.85      0.58      0.62     19288\n",
      "weighted avg       0.92      0.93      0.91     19288\n",
      "\n",
      "ROC: 0.5830510798281321\n"
     ]
    }
   ],
   "source": [
    "#Baseline model: RDF\n",
    "scaler = StandardScaler().fit(X_train)\n",
    "rescaledX = scaler.transform(X_train)\n",
    "\n",
    "model = RandomForestClassifier(random_state=seed, n_estimators=400)\n",
    "model.fit(rescaledX, y_train)\n",
    "\n",
    "rescaledValidationX = scaler.transform(X_val)\n",
    "predict = model.predict(rescaledValidationX)\n",
    "print(classification_report(y_val, predict))\n",
    "print(f'ROC: {roc_auc_score(y_val, predict)}')"
   ]
  },
  {
   "cell_type": "code",
   "execution_count": 40,
   "metadata": {},
   "outputs": [
    {
     "name": "stdout",
     "output_type": "stream",
     "text": [
      "Best: 0.961930 using {'n_estimators': 50}\n",
      "0.961930 (0.000791) with: {'n_estimators': 50}\n",
      "0.961426 (0.001036) with: {'n_estimators': 100}\n",
      "0.960932 (0.001284) with: {'n_estimators': 150}\n",
      "0.960408 (0.001524) with: {'n_estimators': 200}\n",
      "0.960021 (0.001431) with: {'n_estimators': 250}\n",
      "0.959843 (0.001709) with: {'n_estimators': 300}\n",
      "0.959729 (0.001871) with: {'n_estimators': 350}\n",
      "0.959667 (0.001530) with: {'n_estimators': 400}\n"
     ]
    }
   ],
   "source": [
    "#Baseline model: XGB\n",
    "scaler = StandardScaler().fit(X_train)\n",
    "rescaledX = scaler.transform(X_train)\n",
    "param_grid = dict(n_estimators=np.array([50,100,150,200,250,300,350,400]))\n",
    "model = XGBClassifier(random_state=seed)\n",
    "skf = StratifiedKFold(n_splits=num_folds, random_state=seed, shuffle=True)\n",
    "grid = GridSearchCV(estimator=model, param_grid=param_grid, scoring='f1', cv=skf)\n",
    "grid_result = grid.fit(rescaledX, y_train)\n",
    "\n",
    "print(\"Best: %f using %s\" % (grid_result.best_score_, grid_result.best_params_))\n",
    "means = grid_result.cv_results_['mean_test_score']\n",
    "stds = grid_result.cv_results_['std_test_score']\n",
    "params = grid_result.cv_results_['params']\n",
    "for mean, stdev, param in zip(means, stds, params):\n",
    "  print(\"%f (%f) with: %r\" % (mean, stdev, param))"
   ]
  },
  {
   "cell_type": "code",
   "execution_count": 42,
   "metadata": {},
   "outputs": [
    {
     "name": "stdout",
     "output_type": "stream",
     "text": [
      "              precision    recall  f1-score   support\n",
      "\n",
      "           0       0.70      0.18      0.29      1600\n",
      "           1       0.93      0.99      0.96     17688\n",
      "\n",
      "    accuracy                           0.93     19288\n",
      "   macro avg       0.82      0.59      0.63     19288\n",
      "weighted avg       0.91      0.93      0.91     19288\n",
      "\n",
      "ROC: 0.5883697987336046\n"
     ]
    }
   ],
   "source": [
    "#Baseline model: XGB\n",
    "scaler = StandardScaler().fit(X_train)\n",
    "rescaledX = scaler.transform(X_train)\n",
    "\n",
    "model = XGBClassifier(random_state=seed, n_estimators=50)\n",
    "model.fit(rescaledX, y_train)\n",
    "\n",
    "rescaledValidationX = scaler.transform(X_val)\n",
    "predict = model.predict(rescaledValidationX)\n",
    "print(classification_report(y_val, predict))\n",
    "print(f'ROC: {roc_auc_score(y_val, predict)}')"
   ]
  },
  {
   "cell_type": "markdown",
   "metadata": {},
   "source": [
    "# 6. Under Sampling"
   ]
  },
  {
   "cell_type": "code",
   "execution_count": 24,
   "metadata": {},
   "outputs": [
    {
     "data": {
      "text/plain": [
       "(array([0, 1]), array([ 4715, 53148]))"
      ]
     },
     "execution_count": 24,
     "metadata": {},
     "output_type": "execute_result"
    }
   ],
   "source": [
    "np.unique(y_train, return_counts=True)"
   ]
  },
  {
   "cell_type": "code",
   "execution_count": 25,
   "metadata": {},
   "outputs": [],
   "source": [
    "def undersample(X_train, y_train, ratio, random_state=seed):\n",
    "    np.random.seed(random_state)\n",
    "\n",
    "    idx_class_0 = np.where(y_train == 0)[0]\n",
    "    idx_class_1 = np.where(y_train == 1)[0]\n",
    "\n",
    "\n",
    "    num_samples_class_0 = len(idx_class_0)\n",
    "    num_samples_class_1 = min(int(num_samples_class_0 / ratio[0] * ratio[1]), len(idx_class_1))\n",
    "\n",
    "\n",
    "    undersampled_idx_class_1 = np.random.choice(idx_class_1, size=num_samples_class_1)\n",
    "    undersampled_indices = np.concatenate([undersampled_idx_class_1, idx_class_0])\n",
    "    \n",
    "\n",
    "    X_train_balanced = X_train[undersampled_indices]\n",
    "    y_train_balanced = y_train[undersampled_indices]\n",
    "    \n",
    "    return X_train_balanced, y_train_balanced"
   ]
  },
  {
   "cell_type": "code",
   "execution_count": 26,
   "metadata": {},
   "outputs": [],
   "source": [
    "X_train_40_60, y_train_40_60 = undersample(X_train, y_train, ratio={0: 0.4, 1: 0.6}, random_state=seed)\n",
    "X_train_30_70, y_train_30_70 = undersample(X_train, y_train, ratio={0: 0.3, 1: 0.7}, random_state=seed)\n",
    "X_train_20_80, y_train_20_80 = undersample(X_train, y_train, ratio={0: 0.2, 1: 0.8}, random_state=seed)"
   ]
  },
  {
   "cell_type": "code",
   "execution_count": 27,
   "metadata": {},
   "outputs": [
    {
     "name": "stdout",
     "output_type": "stream",
     "text": [
      "(array([0, 1]), array([ 4715, 18860]))\n",
      "(array([0, 1]), array([ 4715, 11001]))\n",
      "(array([0, 1]), array([4715, 7072]))\n"
     ]
    }
   ],
   "source": [
    "print(np.unique(y_train_20_80, return_counts=True))\n",
    "print(np.unique(y_train_30_70, return_counts=True))\n",
    "print(np.unique(y_train_40_60, return_counts=True))"
   ]
  },
  {
   "cell_type": "code",
   "execution_count": 44,
   "metadata": {},
   "outputs": [
    {
     "name": "stdout",
     "output_type": "stream",
     "text": [
      "              precision    recall  f1-score   support\n",
      "\n",
      "           0       0.33      0.54      0.41      1600\n",
      "           1       0.96      0.90      0.93     17688\n",
      "\n",
      "    accuracy                           0.87     19288\n",
      "   macro avg       0.65      0.72      0.67     19288\n",
      "weighted avg       0.90      0.87      0.89     19288\n",
      "\n",
      "ROC: 0.7206398405698777\n",
      "f_0.5: 0.6533303335251718\n",
      "f_2: 0.6964655898563018\n",
      "              precision    recall  f1-score   support\n",
      "\n",
      "           0       0.45      0.39      0.42      1600\n",
      "           1       0.95      0.96      0.95     17688\n",
      "\n",
      "    accuracy                           0.91     19288\n",
      "   macro avg       0.70      0.67      0.68     19288\n",
      "weighted avg       0.90      0.91      0.91     19288\n",
      "\n",
      "ROC: 0.6728082598371777\n",
      "f_0.5: 0.6904514746326365\n",
      "f_2: 0.6767821392139935\n"
     ]
    }
   ],
   "source": [
    "#Baseline model: RDF\n",
    "from sklearn.metrics import fbeta_score\n",
    "\n",
    "X_train_undersampling = [X_train_30_70, X_train_20_80]\n",
    "y_train_undersampling = [y_train_30_70, y_train_20_80]\n",
    "\n",
    "for X, y in zip(X_train_undersampling, y_train_undersampling):\n",
    "    model = RandomForestClassifier()\n",
    "    model.fit(X, y)\n",
    "    predict = model.predict(X_val)\n",
    "    print(classification_report(y_val, predict))\n",
    "    # print(f\"balanced accuracy: {balanced_accuracy_score(y_val, predict)}\")\n",
    "    print(f'ROC: {roc_auc_score(y_val, predict)}')\n",
    "    print(f'f_0.5: {fbeta_score(y_val, predict, average=\"macro\", beta=0.5)}')\n",
    "    print(f'f_2: {fbeta_score(y_val, predict, average=\"macro\", beta=2)}')\n"
   ]
  },
  {
   "cell_type": "code",
   "execution_count": 45,
   "metadata": {},
   "outputs": [
    {
     "name": "stdout",
     "output_type": "stream",
     "text": [
      "              precision    recall  f1-score   support\n",
      "\n",
      "           0       0.32      0.57      0.41      1600\n",
      "           1       0.96      0.89      0.92     17688\n",
      "\n",
      "    accuracy                           0.86     19288\n",
      "   macro avg       0.64      0.73      0.67     19288\n",
      "weighted avg       0.91      0.86      0.88     19288\n",
      "\n",
      "ROC: 0.7301024706015378\n",
      "f_0.5: 0.6475493317059955\n",
      "f_2: 0.6981885589586577\n",
      "              precision    recall  f1-score   support\n",
      "\n",
      "           0       0.41      0.41      0.41      1600\n",
      "           1       0.95      0.95      0.95     17688\n",
      "\n",
      "    accuracy                           0.90     19288\n",
      "   macro avg       0.68      0.68      0.68     19288\n",
      "weighted avg       0.90      0.90      0.90     19288\n",
      "\n",
      "ROC: 0.6776902419719584\n",
      "f_0.5: 0.6778520108386245\n",
      "f_2: 0.6777306450942805\n"
     ]
    }
   ],
   "source": [
    "#Baseline model: XGB\n",
    "X_train_undersampling = [X_train_30_70, X_train_20_80]\n",
    "y_train_undersampling = [y_train_30_70, y_train_20_80]\n",
    "\n",
    "for X, y in zip(X_train_undersampling, y_train_undersampling):\n",
    "    model = XGBClassifier()\n",
    "    model.fit(X, y)\n",
    "    predict = model.predict(X_val)\n",
    "    print(classification_report(y_val, predict))\n",
    "    # print(f\"balanced accuracy: {balanced_accuracy_score(y_val, predict)}\")\n",
    "    print(f'ROC: {roc_auc_score(y_val, predict)}')\n",
    "    print(f'f_0.5: {fbeta_score(y_val, predict, average=\"macro\", beta=0.5)}')\n",
    "    print(f'f_2: {fbeta_score(y_val, predict, average=\"macro\", beta=2)}')"
   ]
  },
  {
   "cell_type": "markdown",
   "metadata": {},
   "source": [
    "# 7. Phat mo hinh (penalize)"
   ]
  },
  {
   "cell_type": "code",
   "execution_count": 48,
   "metadata": {},
   "outputs": [
    {
     "name": "stderr",
     "output_type": "stream",
     "text": [
      "/Users/TrangNgan/HUST/DATN/OntimePrediction/retrain_env/lib/python3.12/site-packages/xgboost/core.py:160: UserWarning: [18:10:44] WARNING: /Users/runner/work/xgboost/xgboost/src/learner.cc:742: \n",
      "Parameters: { \"class_weight\" } are not used.\n",
      "\n",
      "  warnings.warn(smsg, UserWarning)\n"
     ]
    },
    {
     "name": "stdout",
     "output_type": "stream",
     "text": [
      "              precision    recall  f1-score   support\n",
      "\n",
      "           0       0.41      0.41      0.41      1600\n",
      "           1       0.95      0.95      0.95     17688\n",
      "\n",
      "    accuracy                           0.90     19288\n",
      "   macro avg       0.68      0.68      0.68     19288\n",
      "weighted avg       0.90      0.90      0.90     19288\n",
      "\n",
      "ROC: 0.6776902419719584\n"
     ]
    }
   ],
   "source": [
    "model_pen = XGBClassifier(class_weight='balanced')\n",
    "model_pen.fit(X_train_20_80, y_train_20_80)\n",
    "predict = model_pen.predict(X_val)\n",
    "\n",
    "print(classification_report(y_val, predict))\n",
    "print(f'ROC: {roc_auc_score(y_val, predict)}')"
   ]
  },
  {
   "cell_type": "markdown",
   "metadata": {},
   "source": [
    "# 8. Over Sampling"
   ]
  },
  {
   "cell_type": "markdown",
   "metadata": {},
   "source": [
    "## 8.1. Naive random over-sampling"
   ]
  },
  {
   "cell_type": "code",
   "execution_count": 49,
   "metadata": {},
   "outputs": [
    {
     "name": "stdout",
     "output_type": "stream",
     "text": [
      "              precision    recall  f1-score   support\n",
      "\n",
      "           0       0.25      0.66      0.37      1600\n",
      "           1       0.96      0.82      0.89     17688\n",
      "\n",
      "    accuracy                           0.81     19288\n",
      "   macro avg       0.61      0.74      0.63     19288\n",
      "weighted avg       0.91      0.81      0.85     19288\n",
      "\n",
      "ROC: 0.7418878618272275\n"
     ]
    }
   ],
   "source": [
    "X_resampled, y_resampled = RandomOverSampler().fit_resample(X_train_20_80, y_train_20_80)\n",
    "clf_random = XGBClassifier().fit(X_resampled, y_resampled)\n",
    "predict = clf_random.predict(X_val)\n",
    "\n",
    "print(classification_report(y_val, predict))\n",
    "print(f'ROC: {roc_auc_score(y_val, predict)}')"
   ]
  },
  {
   "cell_type": "markdown",
   "metadata": {},
   "source": [
    "## 8.2 (i) the Synthetic Minority Oversampling Technique (SMOTE)"
   ]
  },
  {
   "cell_type": "code",
   "execution_count": 50,
   "metadata": {},
   "outputs": [
    {
     "name": "stdout",
     "output_type": "stream",
     "text": [
      "              precision    recall  f1-score   support\n",
      "\n",
      "           0       0.36      0.48      0.41      1600\n",
      "           1       0.95      0.92      0.94     17688\n",
      "\n",
      "    accuracy                           0.89     19288\n",
      "   macro avg       0.66      0.70      0.68     19288\n",
      "weighted avg       0.90      0.89      0.89     19288\n",
      "\n",
      "ROC: 0.7004158186341022\n"
     ]
    }
   ],
   "source": [
    "X_resampled, y_resampled = SMOTE(random_state=seed).fit_resample(X_train_20_80, y_train_20_80)\n",
    "\n",
    "clf_smote = RandomForestClassifier().fit(X_resampled, y_resampled)\n",
    "predict = clf_smote.predict(X_val)\n",
    "\n",
    "print(classification_report(y_val, predict))\n",
    "print(f'ROC: {roc_auc_score(y_val, predict)}')"
   ]
  },
  {
   "cell_type": "markdown",
   "metadata": {},
   "source": [
    "## 8.3. (ii) the Adaptive Synthetic (ADASYN)"
   ]
  },
  {
   "cell_type": "code",
   "execution_count": 51,
   "metadata": {},
   "outputs": [
    {
     "name": "stdout",
     "output_type": "stream",
     "text": [
      "              precision    recall  f1-score   support\n",
      "\n",
      "           0       0.36      0.46      0.41      1600\n",
      "           1       0.95      0.93      0.94     17688\n",
      "\n",
      "    accuracy                           0.89     19288\n",
      "   macro avg       0.66      0.69      0.67     19288\n",
      "weighted avg       0.90      0.89      0.89     19288\n",
      "\n",
      "ROC: 0.6947013511985527\n"
     ]
    }
   ],
   "source": [
    "X_resampled, y_resampled = ADASYN(random_state=seed).fit_resample(X_train_20_80, y_train_20_80)\n",
    "\n",
    "clf_adasyn = RandomForestClassifier().fit(X_resampled, y_resampled)\n",
    "predict = clf_adasyn.predict(X_val)\n",
    "\n",
    "print(classification_report(y_val, predict))\n",
    "print(f'ROC: {roc_auc_score(y_val, predict)}')"
   ]
  }
 ],
 "metadata": {
  "kernelspec": {
   "display_name": "Python 3.12.3 ('retrain_env': venv)",
   "language": "python",
   "name": "python3"
  },
  "language_info": {
   "codemirror_mode": {
    "name": "ipython",
    "version": 3
   },
   "file_extension": ".py",
   "mimetype": "text/x-python",
   "name": "python",
   "nbconvert_exporter": "python",
   "pygments_lexer": "ipython3",
   "version": "3.12.3"
  },
  "vscode": {
   "interpreter": {
    "hash": "af5858661a3e6658c4447ac9f71b9885fb34f8c5c796bb4fa423c077298df57e"
   }
  }
 },
 "nbformat": 4,
 "nbformat_minor": 2
}
