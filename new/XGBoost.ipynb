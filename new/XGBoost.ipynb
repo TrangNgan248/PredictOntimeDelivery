{
 "cells": [
  {
   "cell_type": "code",
   "execution_count": 1,
   "metadata": {},
   "outputs": [
    {
     "name": "stdout",
     "output_type": "stream",
     "text": [
      "Requirement already satisfied: xgboost in ./retrain_env/lib/python3.12/site-packages (2.0.3)\n",
      "Requirement already satisfied: numpy in ./retrain_env/lib/python3.12/site-packages (from xgboost) (1.26.4)\n",
      "Requirement already satisfied: scipy in ./retrain_env/lib/python3.12/site-packages (from xgboost) (1.13.0)\n",
      "Note: you may need to restart the kernel to use updated packages.\n"
     ]
    }
   ],
   "source": [
    "%pip install xgboost"
   ]
  },
  {
   "cell_type": "code",
   "execution_count": 1,
   "metadata": {},
   "outputs": [],
   "source": [
    "import pickle\n",
    "def loadfile(filename):\n",
    "    with open(f'{filename}.pickle', 'rb') as fp:\n",
    "        data = pickle.load(fp)\n",
    "    return data"
   ]
  },
  {
   "cell_type": "code",
   "execution_count": 2,
   "metadata": {},
   "outputs": [],
   "source": [
    "import numpy as np\n",
    "\n",
    "X_train = loadfile('X_train')\n",
    "X_test = loadfile('X_test')\n",
    "X_val = loadfile('X_val')\n",
    "y_train = loadfile('y_train')\n",
    "y_test = loadfile('y_test')\n",
    "y_val = loadfile('y_val')"
   ]
  },
  {
   "cell_type": "code",
   "execution_count": 3,
   "metadata": {},
   "outputs": [
    {
     "name": "stdout",
     "output_type": "stream",
     "text": [
      "              precision    recall  f1-score   support\n",
      "\n",
      "           0       0.93      0.96      0.94       854\n",
      "           1       0.92      0.89      0.91       522\n",
      "\n",
      "    accuracy                           0.93      1376\n",
      "   macro avg       0.93      0.92      0.93      1376\n",
      "weighted avg       0.93      0.93      0.93      1376\n",
      "\n",
      "BAS:0.9221962008847254\n"
     ]
    },
    {
     "data": {
      "text/plain": [
       "0.930071813792744"
      ]
     },
     "execution_count": 3,
     "metadata": {},
     "output_type": "execute_result"
    }
   ],
   "source": [
    "from sklearn.metrics import classification_report\n",
    "from xgboost import XGBClassifier\n",
    "from sklearn.metrics import balanced_accuracy_score\n",
    "from sklearn.metrics import fbeta_score\n",
    "\n",
    "model = XGBClassifier()\n",
    "model.fit(X_train, y_train)\n",
    "predict = model.predict(X_val)\n",
    "print(classification_report(y_val, predict))\n",
    "print(f'BAS:{balanced_accuracy_score(y_val, predict)}')\n",
    "fbeta_score(y_val, predict, average='weighted', beta=2)"
   ]
  },
  {
   "cell_type": "code",
   "execution_count": 4,
   "metadata": {},
   "outputs": [],
   "source": [
    "import numpy as np\n",
    "from imblearn.under_sampling import RandomUnderSampler\n",
    "\n",
    "# Assuming X_train and y_train are your training data and labels\n",
    "# X_train.shape should be (n_samples, n_features)\n",
    "# y_train.shape should be (n_samples,)\n",
    "\n",
    "# Define the undersampling ratio\n",
    "desired_ratio = {1: np.sum(y_train == 1), 0: int(np.sum(y_train == 1))}\n",
    "\n",
    "# Random undersampling\n",
    "undersampler = RandomUnderSampler(sampling_strategy=desired_ratio, random_state=42)\n",
    "X_train_resampled, y_train_resampled = undersampler.fit_resample(X_train, y_train)"
   ]
  },
  {
   "cell_type": "code",
   "execution_count": 5,
   "metadata": {},
   "outputs": [
    {
     "name": "stdout",
     "output_type": "stream",
     "text": [
      "              precision    recall  f1-score   support\n",
      "\n",
      "           0       0.94      0.93      0.94       854\n",
      "           1       0.89      0.91      0.90       522\n",
      "\n",
      "    accuracy                           0.92      1376\n",
      "   macro avg       0.92      0.92      0.92      1376\n",
      "weighted avg       0.92      0.92      0.92      1376\n",
      "\n",
      "BAS:0.9204375173849453\n"
     ]
    },
    {
     "data": {
      "text/plain": [
       "0.9230134995993979"
      ]
     },
     "execution_count": 5,
     "metadata": {},
     "output_type": "execute_result"
    }
   ],
   "source": [
    "from sklearn.metrics import classification_report\n",
    "from xgboost import XGBClassifier\n",
    "from sklearn.metrics import balanced_accuracy_score\n",
    "from sklearn.metrics import fbeta_score\n",
    "\n",
    "model = XGBClassifier()\n",
    "model.fit(X_train_resampled, y_train_resampled)\n",
    "predict = model.predict(X_val)\n",
    "print(classification_report(y_val, predict))\n",
    "print(f'BAS:{balanced_accuracy_score(y_val, predict)}')\n",
    "fbeta_score(y_val, predict, average='weighted', beta=2)"
   ]
  },
  {
   "cell_type": "code",
   "execution_count": 6,
   "metadata": {},
   "outputs": [
    {
     "name": "stdout",
     "output_type": "stream",
     "text": [
      "{'learning_rate': 0.1, 'max_depth': 6, 'min_child_weight': 50, 'n_estimators': 400, 'reg_alpha': 0.5, 'reg_lambda': 1.2}\n"
     ]
    }
   ],
   "source": [
    "from sklearn.model_selection import GridSearchCV\n",
    "\n",
    "model = XGBClassifier()\n",
    "param_grid = {\n",
    "    'learning_rate': [0.01, 0.1],\n",
    "    'n_estimators': [200, 300, 400],\n",
    "    'max_depth': [6, 7, 8],\n",
    "    'min_child_weight': [50, 100, 200, 300, 400],\n",
    "    'reg_alpha': [0.1, 0.3, 0.5, 0.7, 1.0],\n",
    "    'reg_lambda': [0.3, 0.5, 0.7, 1.0, 1.2, 1.4]\n",
    "}\n",
    "\n",
    "grid_search = GridSearchCV(model, param_grid, cv=5, scoring= 'f1_micro')\n",
    "grid_search.fit(X_train_resampled, y_train_resampled)\n",
    "print(grid_search.best_params_)"
   ]
  },
  {
   "cell_type": "code",
   "execution_count": 7,
   "metadata": {},
   "outputs": [
    {
     "name": "stdout",
     "output_type": "stream",
     "text": [
      "              precision    recall  f1-score   support\n",
      "\n",
      "           0       0.93      0.93      0.93       854\n",
      "           1       0.88      0.88      0.88       522\n",
      "\n",
      "    accuracy                           0.91      1376\n",
      "   macro avg       0.90      0.90      0.90      1376\n",
      "weighted avg       0.91      0.91      0.91      1376\n",
      "\n",
      "BAS:0.9012265920123467\n"
     ]
    }
   ],
   "source": [
    "model = XGBClassifier(learning_rate=0.1, max_depth=6, min_child_weight=50, n_estimators=400, reg_alpha=0.5, reg_lambda=1.2) #param o tren kia\n",
    "model.fit(X_train_resampled, y_train_resampled)\n",
    "predict = model.predict(X_val)\n",
    "print(classification_report(y_val, predict))\n",
    "print(f'BAS:{balanced_accuracy_score(y_val, predict)}')"
   ]
  },
  {
   "cell_type": "code",
   "execution_count": 8,
   "metadata": {},
   "outputs": [
    {
     "name": "stdout",
     "output_type": "stream",
     "text": [
      "              precision    recall  f1-score   support\n",
      "\n",
      "           0       0.92      0.92      0.92       854\n",
      "           1       0.87      0.88      0.87       522\n",
      "\n",
      "    accuracy                           0.90      1376\n",
      "   macro avg       0.90      0.90      0.90      1376\n",
      "weighted avg       0.90      0.90      0.90      1376\n",
      "\n",
      "f_0.5: 0.36787365177195686\n",
      "f_2: 0.37613233556518316\n",
      "ROC: 0.8990977774188629\n"
     ]
    }
   ],
   "source": [
    "#Oversampling: SMOTE\n",
    "from imblearn.over_sampling import SMOTE, ADASYN, RandomOverSampler\n",
    "from sklearn.metrics import roc_auc_score\n",
    "\n",
    "X_resampled, y_resampled = SMOTE(random_state=27).fit_resample(X_train_resampled, y_train_resampled)\n",
    "\n",
    "clf_smote = XGBClassifier(learning_rate=0.1, max_depth=6, min_child_weight=50, n_estimators=300, reg_alpha=1.0, reg_lambda=1.0).fit(X_resampled, y_resampled)\n",
    "predict = clf_smote.predict(X_val)\n",
    "\n",
    "print(classification_report(y_val, predict))\n",
    "print(f'f_0.5: {fbeta_score(y_test, predict, beta=0.5)}')\n",
    "print(f'f_2: {fbeta_score(y_test, predict, beta=2)}')\n",
    "print(f'ROC: {roc_auc_score(y_val, predict)}')\n"
   ]
  },
  {
   "cell_type": "code",
   "execution_count": 9,
   "metadata": {},
   "outputs": [
    {
     "name": "stdout",
     "output_type": "stream",
     "text": [
      "              precision    recall  f1-score   support\n",
      "\n",
      "           0       0.92      0.92      0.92       854\n",
      "           1       0.87      0.88      0.87       522\n",
      "\n",
      "    accuracy                           0.90      1376\n",
      "   macro avg       0.90      0.90      0.90      1376\n",
      "weighted avg       0.90      0.90      0.90      1376\n",
      "\n",
      "ROC: 0.8990977774188629\n"
     ]
    }
   ],
   "source": [
    "#Oversampling: ADASYN\n",
    "\n",
    "X_resampled, y_resampled = ADASYN(random_state=27).fit_resample(X_train_resampled, y_train_resampled)\n",
    "\n",
    "clf_smote = XGBClassifier(learning_rate=0.1, max_depth=6, min_child_weight=50, n_estimators=300, reg_alpha=1.0, reg_lambda=1.0).fit(X_resampled, y_resampled)\n",
    "predict = clf_smote.predict(X_val)\n",
    "\n",
    "print(classification_report(y_val, predict))\n",
    "print(f'ROC: {roc_auc_score(y_val, predict)}')"
   ]
  },
  {
   "cell_type": "code",
   "execution_count": 10,
   "metadata": {},
   "outputs": [
    {
     "name": "stdout",
     "output_type": "stream",
     "text": [
      "              precision    recall  f1-score   support\n",
      "\n",
      "           0       0.92      0.92      0.92       854\n",
      "           1       0.87      0.88      0.87       522\n",
      "\n",
      "    accuracy                           0.90      1376\n",
      "   macro avg       0.90      0.90      0.90      1376\n",
      "weighted avg       0.90      0.90      0.90      1376\n",
      "\n",
      "ROC: 0.8990977774188629\n"
     ]
    }
   ],
   "source": [
    "#Oversampling: RandomOverSampling\n",
    "\n",
    "X_resampled, y_resampled = RandomOverSampler(random_state=27).fit_resample(X_train_resampled, y_train_resampled)\n",
    "clf_smote = XGBClassifier(learning_rate=0.1, max_depth=6, min_child_weight=50, n_estimators=300, reg_alpha=1.0, reg_lambda=1.0).fit(X_resampled, y_resampled)\n",
    "predict = clf_smote.predict(X_val)\n",
    "\n",
    "print(classification_report(y_val, predict))\n",
    "print(f'ROC: {roc_auc_score(y_val, predict)}')"
   ]
  },
  {
   "cell_type": "code",
   "execution_count": 65,
   "metadata": {},
   "outputs": [
    {
     "name": "stdout",
     "output_type": "stream",
     "text": [
      "              precision    recall  f1-score   support\n",
      "\n",
      "           0       0.41      0.44      0.43      1600\n",
      "           1       0.95      0.94      0.95     17688\n",
      "\n",
      "    accuracy                           0.90     19288\n",
      "   macro avg       0.68      0.69      0.69     19288\n",
      "weighted avg       0.90      0.90      0.90     19288\n",
      "\n",
      "ROC: 0.6912768543645409\n"
     ]
    }
   ],
   "source": [
    "#Phạt mô hình\n",
    "from sklearn.utils.class_weight import compute_sample_weight\n",
    "\n",
    "sample_weights = compute_sample_weight(\n",
    "    class_weight={0:0.55, 1: 0.45},\n",
    "    y=y_train_resampled\n",
    ")\n",
    "\n",
    "model_pen = XGBClassifier(learning_rate=0.1,\n",
    "                        max_depth=6,\n",
    "                        min_child_weight=50,\n",
    "                        n_estimators=300,\n",
    "                        reg_alpha=1.0,\n",
    "                        reg_lambda=1.0)\n",
    "model_pen.fit(X_train_resampled, y_train_resampled, sample_weight=sample_weights)\n",
    "predict = model_pen.predict(X_val)\n",
    "\n",
    "print(classification_report(y_val, predict))\n",
    "print(f'ROC: {roc_auc_score(y_val, predict)}')"
   ]
  },
  {
   "cell_type": "code",
   "execution_count": 58,
   "metadata": {},
   "outputs": [],
   "source": [
    "from sklearn.feature_selection import SelectKBest, chi2, f_classif\n",
    "selector = SelectKBest(f_classif, k=4)\n",
    "X_selected = selector.fit_transform(X_train_resampled, y_train_resampled)\n",
    "X_val_new = selector.transform(X_val)"
   ]
  },
  {
   "cell_type": "markdown",
   "metadata": {},
   "source": [
    "TEST TRÊN TẬP TEST"
   ]
  },
  {
   "cell_type": "code",
   "execution_count": 79,
   "metadata": {},
   "outputs": [
    {
     "name": "stdout",
     "output_type": "stream",
     "text": [
      "              precision    recall  f1-score   support\n",
      "\n",
      "           0       0.38      0.44      0.41      1510\n",
      "           1       0.95      0.94      0.95     17778\n",
      "\n",
      "    accuracy                           0.90     19288\n",
      "   macro avg       0.67      0.69      0.68     19288\n",
      "weighted avg       0.91      0.90      0.90     19288\n",
      "\n",
      "f_0.5: 0.9491619857639916\n",
      "f_2: 0.9415818801182124\n",
      "ROC: 0.6890774295784878\n"
     ]
    }
   ],
   "source": [
    "#Oversampling: SMOTE\n",
    "from imblearn.over_sampling import SMOTE, ADASYN, RandomOverSampler\n",
    "from sklearn.metrics import roc_auc_score\n",
    "\n",
    "X_resampled, y_resampled = SMOTE(random_state=27).fit_resample(X_train_resampled, y_train_resampled)\n",
    "\n",
    "clf_smote = XGBClassifier(learning_rate=0.1, max_depth=6, min_child_weight=50, n_estimators=300, reg_alpha=1.0, reg_lambda=1.0).fit(X_resampled, y_resampled)\n",
    "predict = clf_smote.predict(X_test)\n",
    "\n",
    "print(classification_report(y_test, predict))\n",
    "print(f'f_0.5: {fbeta_score(y_test, predict, beta=0.5)}')\n",
    "print(f'f_2: {fbeta_score(y_test, predict, beta=2)}')\n",
    "print(f'ROC: {roc_auc_score(y_test, predict)}')\n"
   ]
  }
 ],
 "metadata": {
  "kernelspec": {
   "display_name": "Python 3.12.3 ('retrain_env': venv)",
   "language": "python",
   "name": "python3"
  },
  "language_info": {
   "codemirror_mode": {
    "name": "ipython",
    "version": 3
   },
   "file_extension": ".py",
   "mimetype": "text/x-python",
   "name": "python",
   "nbconvert_exporter": "python",
   "pygments_lexer": "ipython3",
   "version": "3.12.3"
  },
  "orig_nbformat": 4,
  "vscode": {
   "interpreter": {
    "hash": "af5858661a3e6658c4447ac9f71b9885fb34f8c5c796bb4fa423c077298df57e"
   }
  }
 },
 "nbformat": 4,
 "nbformat_minor": 2
}
