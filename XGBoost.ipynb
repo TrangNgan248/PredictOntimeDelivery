{
 "cells": [
  {
   "cell_type": "code",
   "execution_count": 1,
   "metadata": {},
   "outputs": [
    {
     "name": "stdout",
     "output_type": "stream",
     "text": [
      "Requirement already satisfied: xgboost in ./retrain_env/lib/python3.12/site-packages (2.0.3)\n",
      "Requirement already satisfied: numpy in ./retrain_env/lib/python3.12/site-packages (from xgboost) (1.26.4)\n",
      "Requirement already satisfied: scipy in ./retrain_env/lib/python3.12/site-packages (from xgboost) (1.13.0)\n",
      "Note: you may need to restart the kernel to use updated packages.\n"
     ]
    }
   ],
   "source": [
    "%pip install xgboost"
   ]
  },
  {
   "cell_type": "code",
   "execution_count": 8,
   "metadata": {},
   "outputs": [],
   "source": [
    "import pickle\n",
    "def loadfile(filename):\n",
    "    with open(f'{filename}.pickle', 'rb') as fp:\n",
    "        data = pickle.load(fp)\n",
    "    return data"
   ]
  },
  {
   "cell_type": "code",
   "execution_count": 9,
   "metadata": {},
   "outputs": [],
   "source": [
    "import numpy as np\n",
    "\n",
    "X_train = loadfile('X_train')\n",
    "X_test = loadfile('X_test')\n",
    "X_val = loadfile('X_val')\n",
    "y_train = loadfile('y_train')\n",
    "y_test = loadfile('y_test')\n",
    "y_val = loadfile('y_val')"
   ]
  },
  {
   "cell_type": "code",
   "execution_count": 70,
   "metadata": {},
   "outputs": [
    {
     "name": "stdout",
     "output_type": "stream",
     "text": [
      "              precision    recall  f1-score   support\n",
      "\n",
      "           0       0.69      0.20      0.31      1600\n",
      "           1       0.93      0.99      0.96     17688\n",
      "\n",
      "    accuracy                           0.93     19288\n",
      "   macro avg       0.81      0.60      0.63     19288\n",
      "weighted avg       0.91      0.93      0.91     19288\n",
      "\n",
      "BAS:0.595560408186341\n"
     ]
    },
    {
     "data": {
      "text/plain": [
       "0.917226616376693"
      ]
     },
     "execution_count": 70,
     "metadata": {},
     "output_type": "execute_result"
    }
   ],
   "source": [
    "from sklearn.metrics import classification_report\n",
    "from xgboost import XGBClassifier\n",
    "from sklearn.metrics import balanced_accuracy_score\n",
    "from sklearn.metrics import fbeta_score\n",
    "\n",
    "model = XGBClassifier()\n",
    "model.fit(X_train, y_train)\n",
    "predict = model.predict(X_val)\n",
    "print(classification_report(y_val, predict))\n",
    "print(f'BAS:{balanced_accuracy_score(y_val, predict)}')\n",
    "fbeta_score(y_val, predict, average='weighted', beta=2)"
   ]
  },
  {
   "cell_type": "code",
   "execution_count": 73,
   "metadata": {},
   "outputs": [],
   "source": [
    "import numpy as np\n",
    "from imblearn.under_sampling import RandomUnderSampler\n",
    "\n",
    "# Assuming X_train and y_train are your training data and labels\n",
    "# X_train.shape should be (n_samples, n_features)\n",
    "# y_train.shape should be (n_samples,)\n",
    "\n",
    "# Define the undersampling ratio\n",
    "desired_ratio = {0: np.sum(y_train == 0), 1: int(4*np.sum(y_train == 0))}\n",
    "\n",
    "# Random undersampling\n",
    "undersampler = RandomUnderSampler(sampling_strategy=desired_ratio, random_state=42)\n",
    "X_train_resampled, y_train_resampled = undersampler.fit_resample(X_train, y_train)"
   ]
  },
  {
   "cell_type": "code",
   "execution_count": 77,
   "metadata": {},
   "outputs": [
    {
     "name": "stdout",
     "output_type": "stream",
     "text": [
      "              precision    recall  f1-score   support\n",
      "\n",
      "           0       0.42      0.40      0.41      1600\n",
      "           1       0.95      0.95      0.95     17688\n",
      "\n",
      "    accuracy                           0.90     19288\n",
      "   macro avg       0.68      0.68      0.68     19288\n",
      "weighted avg       0.90      0.90      0.90     19288\n",
      "\n",
      "BAS:0.677085736092266\n",
      "ROC: 0.677085736092266\n"
     ]
    },
    {
     "data": {
      "text/plain": [
       "0.9041871449095543"
      ]
     },
     "execution_count": 77,
     "metadata": {},
     "output_type": "execute_result"
    }
   ],
   "source": [
    "from sklearn.metrics import classification_report\n",
    "from xgboost import XGBClassifier\n",
    "from sklearn.metrics import balanced_accuracy_score\n",
    "from sklearn.metrics import fbeta_score\n",
    "\n",
    "model = XGBClassifier()\n",
    "model.fit(X_train_resampled, y_train_resampled)\n",
    "predict = model.predict(X_val)\n",
    "print(classification_report(y_val, predict))\n",
    "print(f'BAS:{balanced_accuracy_score(y_val, predict)}')\n",
    "fbeta_score(y_val, predict, average='weighted', beta=2)"
   ]
  },
  {
   "cell_type": "code",
   "execution_count": null,
   "metadata": {},
   "outputs": [],
   "source": [
    "from sklearn.model_selection import GridSearchCV\n",
    "\n",
    "model = XGBClassifier()\n",
    "param_grid = {\n",
    "    'learning_rate': [0.01, 0.1],\n",
    "    'n_estimators': [200, 300, 400],\n",
    "    'max_depth': [6, 7, 8],\n",
    "    'min_child_weight': [50, 100, 200, 300, 400],\n",
    "    'reg_alpha': [0.1, 0.3, 0.5, 0.7, 1.0],\n",
    "    'reg_lambda': [0.3, 0.5, 0.7, 1.0, 1.2, 1.4]\n",
    "}\n",
    "\n",
    "grid_search = GridSearchCV(model, param_grid, cv=5, scoring= 'f1_micro')\n",
    "grid_search.fit(X_train_resampled, y_train_resampled)\n",
    "print(grid_search.best_params_)"
   ]
  },
  {
   "cell_type": "code",
   "execution_count": 75,
   "metadata": {},
   "outputs": [
    {
     "name": "stdout",
     "output_type": "stream",
     "text": [
      "              precision    recall  f1-score   support\n",
      "\n",
      "           0       0.45      0.40      0.42      1600\n",
      "           1       0.95      0.96      0.95     17688\n",
      "\n",
      "    accuracy                           0.91     19288\n",
      "   macro avg       0.70      0.68      0.69     19288\n",
      "weighted avg       0.91      0.91      0.91     19288\n",
      "\n",
      "BAS:0.6766713308457711\n"
     ]
    }
   ],
   "source": [
    "model = XGBClassifier(learning_rate=0.1, max_depth=6, min_child_weight=50, n_estimators=300, reg_alpha=1.0, reg_lambda=1.0) #param o tren kia\n",
    "model.fit(X_train_resampled, y_train_resampled)\n",
    "predict = model.predict(X_val)\n",
    "print(classification_report(y_val, predict))\n",
    "print(f'BAS:{balanced_accuracy_score(y_val, predict)}')"
   ]
  },
  {
   "cell_type": "code",
   "execution_count": 80,
   "metadata": {},
   "outputs": [
    {
     "name": "stdout",
     "output_type": "stream",
     "text": [
      "              precision    recall  f1-score   support\n",
      "\n",
      "           0       0.41      0.47      0.44      1600\n",
      "           1       0.95      0.94      0.94     17688\n",
      "\n",
      "    accuracy                           0.90     19288\n",
      "   macro avg       0.68      0.71      0.69     19288\n",
      "weighted avg       0.91      0.90      0.90     19288\n",
      "\n",
      "f_0.5: 0.9171979616553553\n",
      "f_2: 0.9065704476668022\n",
      "ROC: 0.7056093113975577\n"
     ]
    }
   ],
   "source": [
    "#Oversampling: SMOTE\n",
    "from imblearn.over_sampling import SMOTE, ADASYN, RandomOverSampler\n",
    "from sklearn.metrics import roc_auc_score\n",
    "\n",
    "X_resampled, y_resampled = SMOTE(random_state=27).fit_resample(X_train_resampled, y_train_resampled)\n",
    "\n",
    "clf_smote = XGBClassifier(learning_rate=0.1, max_depth=6, min_child_weight=50, n_estimators=300, reg_alpha=1.0, reg_lambda=1.0).fit(X_resampled, y_resampled)\n",
    "predict = clf_smote.predict(X_val)\n",
    "\n",
    "print(classification_report(y_val, predict))\n",
    "print(f'f_0.5: {fbeta_score(y_test, predict, beta=0.5)}')\n",
    "print(f'f_2: {fbeta_score(y_test, predict, beta=2)}')\n",
    "print(f'ROC: {roc_auc_score(y_val, predict)}')\n"
   ]
  },
  {
   "cell_type": "code",
   "execution_count": 63,
   "metadata": {},
   "outputs": [
    {
     "name": "stdout",
     "output_type": "stream",
     "text": [
      "              precision    recall  f1-score   support\n",
      "\n",
      "           0       0.41      0.46      0.43      1600\n",
      "           1       0.95      0.94      0.94     17688\n",
      "\n",
      "    accuracy                           0.90     19288\n",
      "   macro avg       0.68      0.70      0.69     19288\n",
      "weighted avg       0.91      0.90      0.90     19288\n",
      "\n",
      "ROC: 0.6977073439620081\n"
     ]
    }
   ],
   "source": [
    "#Oversampling: ADASYN\n",
    "\n",
    "X_resampled, y_resampled = ADASYN(random_state=27).fit_resample(X_train_resampled, y_train_resampled)\n",
    "\n",
    "clf_smote = XGBClassifier(learning_rate=0.1, max_depth=6, min_child_weight=50, n_estimators=300, reg_alpha=1.0, reg_lambda=1.0).fit(X_resampled, y_resampled)\n",
    "predict = clf_smote.predict(X_val)\n",
    "\n",
    "print(classification_report(y_val, predict))\n",
    "print(f'ROC: {roc_auc_score(y_val, predict)}')"
   ]
  },
  {
   "cell_type": "code",
   "execution_count": 64,
   "metadata": {},
   "outputs": [
    {
     "name": "stdout",
     "output_type": "stream",
     "text": [
      "              precision    recall  f1-score   support\n",
      "\n",
      "           0       0.24      0.71      0.36      1600\n",
      "           1       0.97      0.80      0.88     17688\n",
      "\n",
      "    accuracy                           0.79     19288\n",
      "   macro avg       0.61      0.75      0.62     19288\n",
      "weighted avg       0.91      0.79      0.84     19288\n",
      "\n",
      "ROC: 0.7545836160108549\n"
     ]
    }
   ],
   "source": [
    "#Oversampling: RandomOverSampling\n",
    "\n",
    "X_resampled, y_resampled = RandomOverSampler(random_state=27).fit_resample(X_train_resampled, y_train_resampled)\n",
    "clf_smote = XGBClassifier(learning_rate=0.1, max_depth=6, min_child_weight=50, n_estimators=300, reg_alpha=1.0, reg_lambda=1.0).fit(X_resampled, y_resampled)\n",
    "predict = clf_smote.predict(X_val)\n",
    "\n",
    "print(classification_report(y_val, predict))\n",
    "print(f'ROC: {roc_auc_score(y_val, predict)}')"
   ]
  },
  {
   "cell_type": "code",
   "execution_count": 65,
   "metadata": {},
   "outputs": [
    {
     "name": "stdout",
     "output_type": "stream",
     "text": [
      "              precision    recall  f1-score   support\n",
      "\n",
      "           0       0.41      0.44      0.43      1600\n",
      "           1       0.95      0.94      0.95     17688\n",
      "\n",
      "    accuracy                           0.90     19288\n",
      "   macro avg       0.68      0.69      0.69     19288\n",
      "weighted avg       0.90      0.90      0.90     19288\n",
      "\n",
      "ROC: 0.6912768543645409\n"
     ]
    }
   ],
   "source": [
    "#Phạt mô hình\n",
    "from sklearn.utils.class_weight import compute_sample_weight\n",
    "\n",
    "sample_weights = compute_sample_weight(\n",
    "    class_weight={0:0.55, 1: 0.45},\n",
    "    y=y_train_resampled\n",
    ")\n",
    "\n",
    "model_pen = XGBClassifier(learning_rate=0.1,\n",
    "                        max_depth=6,\n",
    "                        min_child_weight=50,\n",
    "                        n_estimators=300,\n",
    "                        reg_alpha=1.0,\n",
    "                        reg_lambda=1.0)\n",
    "model_pen.fit(X_train_resampled, y_train_resampled, sample_weight=sample_weights)\n",
    "predict = model_pen.predict(X_val)\n",
    "\n",
    "print(classification_report(y_val, predict))\n",
    "print(f'ROC: {roc_auc_score(y_val, predict)}')"
   ]
  },
  {
   "cell_type": "code",
   "execution_count": 58,
   "metadata": {},
   "outputs": [],
   "source": [
    "from sklearn.feature_selection import SelectKBest, chi2, f_classif\n",
    "selector = SelectKBest(f_classif, k=4)\n",
    "X_selected = selector.fit_transform(X_train_resampled, y_train_resampled)\n",
    "X_val_new = selector.transform(X_val)"
   ]
  },
  {
   "cell_type": "markdown",
   "metadata": {},
   "source": [
    "TEST TRÊN TẬP TEST"
   ]
  },
  {
   "cell_type": "code",
   "execution_count": 79,
   "metadata": {},
   "outputs": [
    {
     "name": "stdout",
     "output_type": "stream",
     "text": [
      "              precision    recall  f1-score   support\n",
      "\n",
      "           0       0.38      0.44      0.41      1510\n",
      "           1       0.95      0.94      0.95     17778\n",
      "\n",
      "    accuracy                           0.90     19288\n",
      "   macro avg       0.67      0.69      0.68     19288\n",
      "weighted avg       0.91      0.90      0.90     19288\n",
      "\n",
      "f_0.5: 0.9491619857639916\n",
      "f_2: 0.9415818801182124\n",
      "ROC: 0.6890774295784878\n"
     ]
    }
   ],
   "source": [
    "#Oversampling: SMOTE\n",
    "from imblearn.over_sampling import SMOTE, ADASYN, RandomOverSampler\n",
    "from sklearn.metrics import roc_auc_score\n",
    "\n",
    "X_resampled, y_resampled = SMOTE(random_state=27).fit_resample(X_train_resampled, y_train_resampled)\n",
    "\n",
    "clf_smote = XGBClassifier(learning_rate=0.1, max_depth=6, min_child_weight=50, n_estimators=300, reg_alpha=1.0, reg_lambda=1.0).fit(X_resampled, y_resampled)\n",
    "predict = clf_smote.predict(X_test)\n",
    "\n",
    "print(classification_report(y_test, predict))\n",
    "print(f'f_0.5: {fbeta_score(y_test, predict, beta=0.5)}')\n",
    "print(f'f_2: {fbeta_score(y_test, predict, beta=2)}')\n",
    "print(f'ROC: {roc_auc_score(y_test, predict)}')\n"
   ]
  }
 ],
 "metadata": {
  "kernelspec": {
   "display_name": "Python 3.12.3 ('retrain_env': venv)",
   "language": "python",
   "name": "python3"
  },
  "language_info": {
   "codemirror_mode": {
    "name": "ipython",
    "version": 3
   },
   "file_extension": ".py",
   "mimetype": "text/x-python",
   "name": "python",
   "nbconvert_exporter": "python",
   "pygments_lexer": "ipython3",
   "version": "3.12.3"
  },
  "orig_nbformat": 4,
  "vscode": {
   "interpreter": {
    "hash": "af5858661a3e6658c4447ac9f71b9885fb34f8c5c796bb4fa423c077298df57e"
   }
  }
 },
 "nbformat": 4,
 "nbformat_minor": 2
}
