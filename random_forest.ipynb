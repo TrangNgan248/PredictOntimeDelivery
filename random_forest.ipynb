{
 "cells": [
  {
   "cell_type": "code",
   "execution_count": 2,
   "metadata": {},
   "outputs": [],
   "source": [
    "import pickle\n",
    "def loadfile(filename):\n",
    "    with open(f'{filename}.pickle', 'rb') as fp:\n",
    "        data = pickle.load(fp)\n",
    "    return data"
   ]
  },
  {
   "cell_type": "code",
   "execution_count": 3,
   "metadata": {},
   "outputs": [],
   "source": [
    "import numpy as np\n",
    "\n",
    "X_train = loadfile('X_train')\n",
    "X_test = loadfile('X_test')\n",
    "X_val = loadfile('X_val')\n",
    "y_train = loadfile('y_train')\n",
    "y_test = loadfile('y_test')\n",
    "y_val = loadfile('y_val')"
   ]
  },
  {
   "cell_type": "code",
   "execution_count": 10,
   "metadata": {},
   "outputs": [
    {
     "name": "stdout",
     "output_type": "stream",
     "text": [
      "(57863, 11)\n",
      "(57863,)\n",
      "(19288, 11)\n",
      "(19288,)\n",
      "(19288, 11)\n",
      "(19288,)\n"
     ]
    }
   ],
   "source": [
    "print(X_train.shape)\n",
    "print(y_train.shape)\n",
    "print(X_test.shape)\n",
    "print(y_test.shape)\n",
    "print(X_val.shape)\n",
    "print(y_val.shape)"
   ]
  },
  {
   "cell_type": "code",
   "execution_count": 5,
   "metadata": {},
   "outputs": [
    {
     "name": "stdout",
     "output_type": "stream",
     "text": [
      "              precision    recall  f1-score   support\n",
      "\n",
      "           0       0.74      0.18      0.29      1600\n",
      "           1       0.93      0.99      0.96     17688\n",
      "\n",
      "    accuracy                           0.93     19288\n",
      "   macro avg       0.84      0.59      0.62     19288\n",
      "weighted avg       0.91      0.93      0.91     19288\n",
      "\n",
      "f_0.5: 0.942604501607717\n",
      "f_2: 0.9809268863978584\n"
     ]
    }
   ],
   "source": [
    "from sklearn.metrics import classification_report\n",
    "from sklearn.ensemble import RandomForestClassifier\n",
    "from sklearn.metrics import balanced_accuracy_score\n",
    "from sklearn.metrics import fbeta_score\n",
    "\n",
    "model = RandomForestClassifier()\n",
    "model.fit(X_train, y_train)\n",
    "predict = model.predict(X_val)\n",
    "print(classification_report(y_val, predict))\n",
    "balanced_accuracy_score(y_val, predict)\n",
    "print(f'f_0.5: {fbeta_score(y_val, predict, beta=0.5)}')\n",
    "print(f'f_2: {fbeta_score(y_val, predict, beta=2)}')"
   ]
  },
  {
   "cell_type": "code",
   "execution_count": 7,
   "metadata": {},
   "outputs": [],
   "source": [
    "import numpy as np\n",
    "from imblearn.under_sampling import RandomUnderSampler\n",
    "\n",
    "# Assuming X_train and y_train are your training data and labels\n",
    "# X_train.shape should be (n_samples, n_features)\n",
    "# y_train.shape should be (n_samples,)\n",
    "\n",
    "# Define the undersampling ratio\n",
    "desired_ratio = {0: np.sum(y_train == 0), 1: int(4*np.sum(y_train == 0))}\n",
    "\n",
    "# Random undersampling\n",
    "undersampler = RandomUnderSampler(sampling_strategy=desired_ratio, random_state=42)\n",
    "X_train_resampled, y_train_resampled = undersampler.fit_resample(X_train, y_train)"
   ]
  },
  {
   "cell_type": "code",
   "execution_count": 8,
   "metadata": {},
   "outputs": [
    {
     "name": "stdout",
     "output_type": "stream",
     "text": [
      "              precision    recall  f1-score   support\n",
      "\n",
      "           0       0.46      0.36      0.40      1600\n",
      "           1       0.94      0.96      0.95     17688\n",
      "\n",
      "    accuracy                           0.91     19288\n",
      "   macro avg       0.70      0.66      0.68     19288\n",
      "weighted avg       0.90      0.91      0.91     19288\n",
      "\n",
      "f_0.5: 0.9466711200178134\n",
      "f_2: 0.9577068198456946\n"
     ]
    }
   ],
   "source": [
    "from sklearn.metrics import classification_report\n",
    "from sklearn.ensemble import RandomForestClassifier\n",
    "from sklearn.metrics import balanced_accuracy_score\n",
    "from sklearn.metrics import fbeta_score\n",
    "\n",
    "model = RandomForestClassifier()\n",
    "model.fit(X_train_resampled, y_train_resampled)\n",
    "predict = model.predict(X_val)\n",
    "print(classification_report(y_val, predict))\n",
    "balanced_accuracy_score(y_val, predict)\n",
    "print(f'f_0.5: {fbeta_score(y_val, predict, beta=0.5)}')\n",
    "print(f'f_2: {fbeta_score(y_val, predict, beta=2)}')\n"
   ]
  },
  {
   "cell_type": "code",
   "execution_count": 17,
   "metadata": {},
   "outputs": [
    {
     "name": "stdout",
     "output_type": "stream",
     "text": [
      "              precision    recall  f1-score   support\n",
      "\n",
      "           0       0.44      0.36      0.40      1510\n",
      "           1       0.95      0.96      0.95     17778\n",
      "\n",
      "    accuracy                           0.91     19288\n",
      "   macro avg       0.69      0.66      0.68     19288\n",
      "weighted avg       0.91      0.91      0.91     19288\n",
      "\n"
     ]
    }
   ],
   "source": [
    "from sklearn.metrics import classification_report\n",
    "from sklearn.ensemble import RandomForestClassifier\n",
    "\n",
    "model = RandomForestClassifier()\n",
    "model.fit(X_train_resampled, y_train_resampled)\n",
    "predict = model.predict(X_test)\n",
    "print(classification_report(y_test, predict))"
   ]
  },
  {
   "cell_type": "code",
   "execution_count": 44,
   "metadata": {},
   "outputs": [
    {
     "name": "stdout",
     "output_type": "stream",
     "text": [
      "{'max_depth': 5, 'min_samples_leaf': 2, 'n_estimators': 100}\n"
     ]
    }
   ],
   "source": [
    "from sklearn.model_selection import GridSearchCV\n",
    "\n",
    "model = RandomForestClassifier()\n",
    "param_grid = {\n",
    "    'n_estimators': [60, 80, 100],\n",
    "    'max_depth': [3, 4, 5],\n",
    "    'min_samples_leaf': [1, 2, 3],\n",
    "}\n",
    "\n",
    "grid_search = GridSearchCV(model, param_grid, cv=10, scoring= 'f1_micro')\n",
    "grid_search.fit(X_train_resampled, y_train_resampled)\n",
    "print(grid_search.best_params_)"
   ]
  },
  {
   "cell_type": "code",
   "execution_count": 45,
   "metadata": {},
   "outputs": [
    {
     "name": "stdout",
     "output_type": "stream",
     "text": [
      "              precision    recall  f1-score   support\n",
      "\n",
      "           0       0.76      0.12      0.21      1567\n",
      "           1       0.93      1.00      0.96     17721\n",
      "\n",
      "    accuracy                           0.93     19288\n",
      "   macro avg       0.84      0.56      0.59     19288\n",
      "weighted avg       0.91      0.93      0.90     19288\n",
      "\n"
     ]
    }
   ],
   "source": [
    "model = RandomForestClassifier(n_estimators=100, max_depth=5, min_samples_leaf=2) #param o tren kia\n",
    "model.fit(X_train_resampled, y_train_resampled)\n",
    "predict = model.predict(X_val)\n",
    "print(classification_report(y_val, predict))"
   ]
  },
  {
   "cell_type": "code",
   "execution_count": 9,
   "metadata": {},
   "outputs": [
    {
     "data": {
      "text/plain": [
       "1"
      ]
     },
     "execution_count": 9,
     "metadata": {},
     "output_type": "execute_result"
    }
   ],
   "source": [
    "import pandas as pd\n",
    "\n",
    "new_sample = [[2017, 3, 10, 4, 420.7, 1175, 1175, 69.82, 22, 5148, 5148]]\n",
    "x = pd.DataFrame(new_sample)\n",
    "    # x.columns = __columns\n",
    "\n",
    "predict = model.predict(x)[0]\n",
    "predict"
   ]
  },
  {
   "cell_type": "code",
   "execution_count": 8,
   "metadata": {},
   "outputs": [],
   "source": [
    "import pickle\n",
    "import joblib\n",
    "pickle.dump(model, open('flask/model.pkl', 'wb'))\n",
    "joblib.dump(model, open('flask/model.sav', 'wb'))\n"
   ]
  },
  {
   "cell_type": "code",
   "execution_count": 10,
   "metadata": {},
   "outputs": [],
   "source": [
    "from sklearn.feature_selection import SelectKBest, chi2, f_classif\n",
    "selector = SelectKBest(f_classif, k=11)\n",
    "X_selected = selector.fit_transform(X_train_resampled, y_train_resampled)\n",
    "X_val_new = selector.transform(X_val)"
   ]
  },
  {
   "cell_type": "code",
   "execution_count": 12,
   "metadata": {},
   "outputs": [
    {
     "name": "stdout",
     "output_type": "stream",
     "text": [
      "              precision    recall  f1-score   support\n",
      "\n",
      "           0       0.46      0.37      0.41      1600\n",
      "           1       0.94      0.96      0.95     17688\n",
      "\n",
      "    accuracy                           0.91     19288\n",
      "   macro avg       0.70      0.67      0.68     19288\n",
      "weighted avg       0.90      0.91      0.91     19288\n",
      "\n",
      "f_0.5: 0.9473684210526315\n",
      "f_2: 0.9572957746478873\n"
     ]
    }
   ],
   "source": [
    "from sklearn.metrics import classification_report\n",
    "from sklearn.ensemble import RandomForestClassifier\n",
    "\n",
    "model = RandomForestClassifier()\n",
    "model.fit(X_selected, y_train_resampled)\n",
    "predict = model.predict(X_val_new)\n",
    "# model.score(X_selected, y_train_resampled)\n",
    "print(classification_report(y_val, predict))\n",
    "print(f'f_0.5: {fbeta_score(y_val, predict, beta=0.5)}')\n",
    "print(f'f_2: {fbeta_score(y_val, predict, beta=2)}')"
   ]
  },
  {
   "cell_type": "markdown",
   "metadata": {},
   "source": [
    "TEST TRÊN TẬP TEST"
   ]
  },
  {
   "cell_type": "code",
   "execution_count": 14,
   "metadata": {},
   "outputs": [],
   "source": [
    "from sklearn.feature_selection import SelectKBest, chi2, f_classif\n",
    "selector = SelectKBest(f_classif, k=11)\n",
    "X_selected = selector.fit_transform(X_train_resampled, y_train_resampled)\n",
    "X_test_new = selector.transform(X_test)"
   ]
  },
  {
   "cell_type": "code",
   "execution_count": 16,
   "metadata": {},
   "outputs": [
    {
     "name": "stdout",
     "output_type": "stream",
     "text": [
      "              precision    recall  f1-score   support\n",
      "\n",
      "           0       0.44      0.35      0.39      1510\n",
      "           1       0.95      0.96      0.95     17778\n",
      "\n",
      "    accuracy                           0.91     19288\n",
      "   macro avg       0.69      0.65      0.67     19288\n",
      "weighted avg       0.91      0.91      0.91     19288\n",
      "\n",
      "f_0.5: 0.9487941783329266\n",
      "f_2: 0.9588135061208017\n",
      "ROC: 0.6546101700218814\n"
     ]
    }
   ],
   "source": [
    "from sklearn.metrics import classification_report\n",
    "from sklearn.ensemble import RandomForestClassifier\n",
    "from sklearn.metrics import roc_auc_score\n",
    "\n",
    "model = RandomForestClassifier()\n",
    "model.fit(X_selected, y_train_resampled)\n",
    "predict = model.predict(X_test_new)\n",
    "print(classification_report(y_test, predict))\n",
    "print(f'f_0.5: {fbeta_score(y_test, predict, beta=0.5)}')\n",
    "print(f'f_2: {fbeta_score(y_test, predict, beta=2)}')\n",
    "print(f'ROC: {roc_auc_score(y_test, predict)}')"
   ]
  }
 ],
 "metadata": {
  "kernelspec": {
   "display_name": "Python 3.9.6 64-bit",
   "language": "python",
   "name": "python3"
  },
  "language_info": {
   "codemirror_mode": {
    "name": "ipython",
    "version": 3
   },
   "file_extension": ".py",
   "mimetype": "text/x-python",
   "name": "python",
   "nbconvert_exporter": "python",
   "pygments_lexer": "ipython3",
   "version": "3.9.6"
  },
  "orig_nbformat": 4,
  "vscode": {
   "interpreter": {
    "hash": "31f2aee4e71d21fbe5cf8b01ff0e069b9275f58929596ceb00d14d90e3e16cd6"
   }
  }
 },
 "nbformat": 4,
 "nbformat_minor": 2
}
