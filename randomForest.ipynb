{
 "cells": [
  {
   "cell_type": "code",
   "execution_count": 1,
   "metadata": {},
   "outputs": [],
   "source": [
    "import pickle\n",
    "def loadfile(filename):\n",
    "    with open(f'{filename}.pickle', 'rb') as fp:\n",
    "        data = pickle.load(fp)\n",
    "    return data"
   ]
  },
  {
   "cell_type": "code",
   "execution_count": 2,
   "metadata": {},
   "outputs": [],
   "source": [
    "import numpy as np\n",
    "\n",
    "X_train = loadfile('X_train')\n",
    "X_test = loadfile('X_test')\n",
    "X_val = loadfile('X_val')\n",
    "y_train = loadfile('y_train')\n",
    "y_test = loadfile('y_test')\n",
    "y_val = loadfile('y_val')"
   ]
  },
  {
   "cell_type": "code",
   "execution_count": 4,
   "metadata": {},
   "outputs": [],
   "source": [
    "import numpy as np\n",
    "from imblearn.under_sampling import RandomUnderSampler\n",
    "\n",
    "# Assuming X_train and y_train are your training data and labels\n",
    "# X_train.shape should be (n_samples, n_features)\n",
    "# y_train.shape should be (n_samples,)\n",
    "\n",
    "# Define the undersampling ratio\n",
    "desired_ratio = {0: np.sum(y_train == 0), 1: int(4*np.sum(y_train == 0))}\n",
    "\n",
    "# Random undersampling\n",
    "undersampler = RandomUnderSampler(sampling_strategy=desired_ratio, random_state=42)\n",
    "X_train_resampled, y_train_resampled = undersampler.fit_resample(X_train, y_train)"
   ]
  },
  {
   "cell_type": "code",
   "execution_count": 5,
   "metadata": {},
   "outputs": [
    {
     "name": "stdout",
     "output_type": "stream",
     "text": [
      "              precision    recall  f1-score   support\n",
      "\n",
      "           0       0.44      0.35      0.39      1510\n",
      "           1       0.95      0.96      0.95     17778\n",
      "\n",
      "    accuracy                           0.91     19288\n",
      "   macro avg       0.69      0.66      0.67     19288\n",
      "weighted avg       0.91      0.91      0.91     19288\n",
      "\n"
     ]
    }
   ],
   "source": [
    "from sklearn.metrics import classification_report\n",
    "from sklearn.ensemble import RandomForestClassifier\n",
    "\n",
    "model = RandomForestClassifier()\n",
    "model.fit(X_train_resampled, y_train_resampled)\n",
    "predict = model.predict(X_test)\n",
    "print(classification_report(y_test, predict))"
   ]
  },
  {
   "cell_type": "code",
   "execution_count": 6,
   "metadata": {},
   "outputs": [],
   "source": [
    "import pickle\n",
    "import joblib\n",
    "pickle.dump(model, open('flask/OntimePredictmodel.pkl', 'wb'))\n",
    "joblib.dump(model, open('flask/OntimePredictmodel.sav', 'wb'))"
   ]
  }
 ],
 "metadata": {
  "kernelspec": {
   "display_name": "Python 3.9.6 64-bit",
   "language": "python",
   "name": "python3"
  },
  "language_info": {
   "codemirror_mode": {
    "name": "ipython",
    "version": 3
   },
   "file_extension": ".py",
   "mimetype": "text/x-python",
   "name": "python",
   "nbconvert_exporter": "python",
   "pygments_lexer": "ipython3",
   "version": "3.9.6"
  },
  "orig_nbformat": 4,
  "vscode": {
   "interpreter": {
    "hash": "31f2aee4e71d21fbe5cf8b01ff0e069b9275f58929596ceb00d14d90e3e16cd6"
   }
  }
 },
 "nbformat": 4,
 "nbformat_minor": 2
}
